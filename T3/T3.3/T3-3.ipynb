{
 "cells": [
  {
   "cell_type": "code",
   "execution_count": 1,
   "metadata": {
    "collapsed": false
   },
   "outputs": [
    {
     "name": "stdout",
     "output_type": "stream",
     "text": [
      "<pyspark.context.SparkContext object at 0x0000000004382B38>\n"
     ]
    }
   ],
   "source": [
    "# Konfigurasi Spark\n",
    "import os\n",
    "import sys\n",
    "\n",
    "# 1. Mengeset variabel yang menyimpan lokasi di mana Spark diinstal\n",
    "spark_path = \"C:/spark\"\n",
    "\n",
    "# 2. Menentukan environment variable SPARK_HOME\n",
    "os.environ['SPARK_HOME'] = spark_path\n",
    "\n",
    "# 3. Simpan lokasi winutils.exe sebagai environment variable HADOOP_HOME\n",
    "os.environ['HADOOP_HOME'] = spark_path\n",
    "\n",
    "# 4. Lokasi Python yang dijalankan --> punya Anaconda\n",
    "#    Apabila Python yang diinstall hanya Anaconda, maka tidak perlu menjalankan baris ini.\n",
    "os.environ['PYSPARK_PYTHON'] = sys.executable\n",
    "\n",
    "# 5. Konfigurasi path library PySpark\n",
    "sys.path.append(spark_path + \"/bin\")\n",
    "sys.path.append(spark_path + \"/python\")\n",
    "sys.path.append(spark_path + \"/python/pyspark/\")\n",
    "sys.path.append(spark_path + \"/python/lib\")\n",
    "sys.path.append(spark_path + \"/python/lib/pyspark.zip\")\n",
    "sys.path.append(spark_path + \"/python/lib/py4j-0.10.4-src.zip\")\n",
    "\n",
    "# 6. Import library Spark\n",
    "#    Dua library yang WAJIB di-import adalah **SparkContext** dan **SparkConf**.\n",
    "from pyspark import SparkContext\n",
    "from pyspark import SparkConf\n",
    "\n",
    "sc = SparkContext(\"local\", \"test\")\n",
    "#    Apabila berhasil, maka ketika sc di-print akan mengeluarkan nilai <pyspark.context.SparkContext object>\n",
    "print sc"
   ]
  },
  {
   "cell_type": "code",
   "execution_count": 2,
   "metadata": {
    "collapsed": false
   },
   "outputs": [
    {
     "name": "stdout",
     "output_type": "stream",
     "text": [
      "FreqItemset(items=[u'Keyboard-Logitech'], freq=150)\n",
      "FreqItemset(items=[u'Mouse-Logitech'], freq=146)\n",
      "FreqItemset(items=[u'Mouse-Logitech', u'Keyboard-Logitech'], freq=111)\n",
      "FreqItemset(items=[u'Headphone-Razer'], freq=114)\n"
     ]
    }
   ],
   "source": [
    "from pyspark.mllib.fpm import FPGrowth\n",
    "\n",
    "data = sc.textFile(\"file:///F:/Eka/ITS/KULIAH/SEMESTER 8/Big Data/Project/T3/T3.3/Data/data.txt\")\n",
    "transactions = data.map(lambda line: line.strip().split(' '))\n",
    "model = FPGrowth.train(transactions, minSupport=0.5, numPartitions=200)\n",
    "result = model.freqItemsets().collect()\n",
    "for fi in result:\n",
    "    print(fi)"
   ]
  },
  {
   "cell_type": "code",
   "execution_count": 4,
   "metadata": {
    "collapsed": false
   },
   "outputs": [
    {
     "name": "stdout",
     "output_type": "stream",
     "text": [
      "FreqItemset(items=[u'Keyboard-Logitech'], freq=150)\n",
      "FreqItemset(items=[u'Mouse-Logitech'], freq=146)\n",
      "FreqItemset(items=[u'Mouse-Logitech', u'Keyboard-Logitech'], freq=111)\n",
      "FreqItemset(items=[u'Headphone-Razer'], freq=114)\n",
      "FreqItemset(items=[u'Headphone-Razer', u'Mouse-Logitech'], freq=74)\n",
      "FreqItemset(items=[u'Headphone-Razer', u'Keyboard-Logitech'], freq=75)\n"
     ]
    }
   ],
   "source": [
    "from pyspark.mllib.fpm import FPGrowth\n",
    "\n",
    "data = sc.textFile(\"file:///F:/Eka/ITS/KULIAH/SEMESTER 8/Big Data/Project/T3/T3.3/Data/data.txt\")\n",
    "transactions = data.map(lambda line: line.strip().split(' '))\n",
    "model = FPGrowth.train(transactions, minSupport=0.3, numPartitions=200)\n",
    "result = model.freqItemsets().collect()\n",
    "for fi in result:\n",
    "    print(fi)"
   ]
  },
  {
   "cell_type": "code",
   "execution_count": 5,
   "metadata": {
    "collapsed": false
   },
   "outputs": [
    {
     "name": "stdout",
     "output_type": "stream",
     "text": [
      "FreqItemset(items=[u'Keyboard-Logitech'], freq=150)\n",
      "FreqItemset(items=[u'Mouse-Logitech'], freq=146)\n",
      "FreqItemset(items=[u'Mouse-Logitech', u'Keyboard-Logitech'], freq=111)\n",
      "FreqItemset(items=[u'Headphone-Razer'], freq=114)\n",
      "FreqItemset(items=[u'Headphone-Razer', u'Mouse-Logitech'], freq=74)\n",
      "FreqItemset(items=[u'Headphone-Razer', u'Mouse-Logitech', u'Keyboard-Logitech'], freq=48)\n",
      "FreqItemset(items=[u'Headphone-Razer', u'Keyboard-Logitech'], freq=75)\n",
      "FreqItemset(items=[u'Headphone-ATH'], freq=58)\n",
      "FreqItemset(items=[u'Headphone-ATH', u'Mouse-Logitech'], freq=51)\n",
      "FreqItemset(items=[u'Headphone-ATH', u'Mouse-Logitech', u'Keyboard-Logitech'], freq=47)\n",
      "FreqItemset(items=[u'Headphone-ATH', u'Keyboard-Logitech'], freq=54)\n"
     ]
    }
   ],
   "source": [
    "from pyspark.mllib.fpm import FPGrowth\n",
    "\n",
    "data = sc.textFile(\"file:///F:/Eka/ITS/KULIAH/SEMESTER 8/Big Data/Project/T3/T3.3/Data/data.txt\")\n",
    "transactions = data.map(lambda line: line.strip().split(' '))\n",
    "model = FPGrowth.train(transactions, minSupport=0.2, numPartitions=200)\n",
    "result = model.freqItemsets().collect()\n",
    "for fi in result:\n",
    "    print(fi)"
   ]
  },
  {
   "cell_type": "code",
   "execution_count": null,
   "metadata": {
    "collapsed": true
   },
   "outputs": [],
   "source": []
  }
 ],
 "metadata": {
  "kernelspec": {
   "display_name": "Python 2",
   "language": "python",
   "name": "python2"
  },
  "language_info": {
   "codemirror_mode": {
    "name": "ipython",
    "version": 2
   },
   "file_extension": ".py",
   "mimetype": "text/x-python",
   "name": "python",
   "nbconvert_exporter": "python",
   "pygments_lexer": "ipython2",
   "version": "2.7.13"
  }
 },
 "nbformat": 4,
 "nbformat_minor": 2
}
