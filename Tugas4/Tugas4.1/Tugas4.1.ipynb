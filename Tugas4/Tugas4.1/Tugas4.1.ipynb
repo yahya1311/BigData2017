{
 "cells": [
  {
   "cell_type": "code",
   "execution_count": 1,
   "metadata": {
    "collapsed": false
   },
   "outputs": [
    {
     "name": "stdout",
     "output_type": "stream",
     "text": [
      "<pyspark.context.SparkContext object at 0x000000000437DF60>\n"
     ]
    }
   ],
   "source": [
    "# Konfigurasi Spark\n",
    "import os\n",
    "import sys\n",
    "\n",
    "# 1. Mengeset variabel yang menyimpan lokasi di mana Spark diinstal\n",
    "spark_path = \"C:/spark\"\n",
    "\n",
    "# 2. Menentukan environment variable SPARK_HOME\n",
    "os.environ['SPARK_HOME'] = spark_path\n",
    "\n",
    "# 3. Simpan lokasi winutils.exe sebagai environment variable HADOOP_HOME\n",
    "os.environ['HADOOP_HOME'] = spark_path\n",
    "\n",
    "# 4. Lokasi Python yang dijalankan --> punya Anaconda\n",
    "#    Apabila Python yang diinstall hanya Anaconda, maka tidak perlu menjalankan baris ini.\n",
    "os.environ['PYSPARK_PYTHON'] = sys.executable\n",
    "\n",
    "# 5. Konfigurasi path library PySpark\n",
    "sys.path.append(spark_path + \"/bin\")\n",
    "sys.path.append(spark_path + \"/python\")\n",
    "sys.path.append(spark_path + \"/python/pyspark/\")\n",
    "sys.path.append(spark_path + \"/python/lib\")\n",
    "sys.path.append(spark_path + \"/python/lib/pyspark.zip\")\n",
    "sys.path.append(spark_path + \"/python/lib/py4j-0.10.4-src.zip\")\n",
    "\n",
    "# 6. Import library Spark\n",
    "#    Dua library yang WAJIB di-import adalah **SparkContext** dan **SparkConf**.\n",
    "from pyspark import SparkContext\n",
    "from pyspark import SparkConf\n",
    "\n",
    "# Setting konfigurasi (opsional)\n",
    "conf = SparkConf()\n",
    "conf.set(\"spark.executor.memory\", \"2g\")\n",
    "conf.set(\"spark.cores.max\", \"4\")\n",
    "\n",
    "sc = SparkContext(\"local\", conf=conf)\n",
    "#    Apabila berhasil, maka ketika sc di-print akan mengeluarkan nilai <pyspark.context.SparkContext object>\n",
    "print sc"
   ]
  },
  {
   "cell_type": "code",
   "execution_count": 2,
   "metadata": {
    "collapsed": false
   },
   "outputs": [
    {
     "name": "stdout",
     "output_type": "stream",
     "text": [
      "Within Set Sum of Squared Error = 0.692820323028\n"
     ]
    }
   ],
   "source": [
    "from numpy import array\n",
    "from math import sqrt\n",
    "\n",
    "from pyspark.mllib.clustering import KMeans, KMeansModel\n",
    "\n",
    "# Load and parse the data\n",
    "data = sc.textFile(\"data/mllib/kmeans_data.txt\")\n",
    "parsedData = data.map(lambda line: array([float(x) for x in line.split(' ')]))\n",
    "\n",
    "# Build the model (cluster the data)\n",
    "clusters = KMeans.train(parsedData, 2, maxIterations=10, initializationMode=\"random\")\n",
    "\n",
    "# Evaluate clustering by computing Within Set Sum of Squared Errors\n",
    "def error(point):\n",
    "    center = clusters.centers[clusters.predict(point)]\n",
    "    return sqrt(sum([x**2 for x in (point - center)]))\n",
    "\n",
    "WSSSE = parsedData.map(lambda point: error(point)).reduce(lambda x, y: x + y)\n",
    "print(\"Within Set Sum of Squared Error = \" + str(WSSSE))\n",
    "\n",
    "# Save and load model\n",
    "clusters.save(sc, \"target/org/apache/spark/PythonKMeansExample/KMeansModel\")\n",
    "sameModel = KMeansModel.load(sc, \"target/org/apache/spark/PythonKMeansExample/KMeansModel\")"
   ]
  },
  {
   "cell_type": "code",
   "execution_count": null,
   "metadata": {
    "collapsed": true
   },
   "outputs": [],
   "source": []
  }
 ],
 "metadata": {
  "kernelspec": {
   "display_name": "Python 2",
   "language": "python",
   "name": "python2"
  },
  "language_info": {
   "codemirror_mode": {
    "name": "ipython",
    "version": 2
   },
   "file_extension": ".py",
   "mimetype": "text/x-python",
   "name": "python",
   "nbconvert_exporter": "python",
   "pygments_lexer": "ipython2",
   "version": "2.7.13"
  }
 },
 "nbformat": 4,
 "nbformat_minor": 2
}
